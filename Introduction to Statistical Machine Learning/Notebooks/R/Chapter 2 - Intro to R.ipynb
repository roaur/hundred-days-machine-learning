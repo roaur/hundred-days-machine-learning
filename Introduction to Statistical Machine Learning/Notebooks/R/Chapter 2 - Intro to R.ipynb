{
 "cells": [
  {
   "cell_type": "markdown",
   "metadata": {},
   "source": [
    "# 2.3 Lab Introduction To R"
   ]
  },
  {
   "cell_type": "markdown",
   "metadata": {},
   "source": [
    "ISLR - Page 42"
   ]
  },
  {
   "cell_type": "code",
   "execution_count": 1,
   "metadata": {},
   "outputs": [],
   "source": [
    "x <- c(1,3,2,5)"
   ]
  },
  {
   "cell_type": "code",
   "execution_count": 2,
   "metadata": {},
   "outputs": [
    {
     "data": {
      "text/html": [
       "<ol class=list-inline>\n",
       "\t<li>1</li>\n",
       "\t<li>3</li>\n",
       "\t<li>2</li>\n",
       "\t<li>5</li>\n",
       "</ol>\n"
      ],
      "text/latex": [
       "\\begin{enumerate*}\n",
       "\\item 1\n",
       "\\item 3\n",
       "\\item 2\n",
       "\\item 5\n",
       "\\end{enumerate*}\n"
      ],
      "text/markdown": [
       "1. 1\n",
       "2. 3\n",
       "3. 2\n",
       "4. 5\n",
       "\n",
       "\n"
      ],
      "text/plain": [
       "[1] 1 3 2 5"
      ]
     },
     "metadata": {},
     "output_type": "display_data"
    }
   ],
   "source": [
    "x"
   ]
  },
  {
   "cell_type": "code",
   "execution_count": 3,
   "metadata": {},
   "outputs": [
    {
     "data": {
      "text/html": [
       "1"
      ],
      "text/latex": [
       "1"
      ],
      "text/markdown": [
       "1"
      ],
      "text/plain": [
       "[1] 1"
      ]
     },
     "metadata": {},
     "output_type": "display_data"
    }
   ],
   "source": [
    "x[1]"
   ]
  },
  {
   "cell_type": "code",
   "execution_count": 4,
   "metadata": {},
   "outputs": [
    {
     "data": {
      "text/html": [],
      "text/latex": [],
      "text/markdown": [],
      "text/plain": [
       "numeric(0)"
      ]
     },
     "metadata": {},
     "output_type": "display_data"
    }
   ],
   "source": [
    "x[0]"
   ]
  },
  {
   "cell_type": "code",
   "execution_count": 12,
   "metadata": {},
   "outputs": [],
   "source": [
    "x = c(1,6,2)"
   ]
  },
  {
   "cell_type": "code",
   "execution_count": 13,
   "metadata": {},
   "outputs": [
    {
     "data": {
      "text/html": [
       "<ol class=list-inline>\n",
       "\t<li>1</li>\n",
       "\t<li>6</li>\n",
       "\t<li>2</li>\n",
       "</ol>\n"
      ],
      "text/latex": [
       "\\begin{enumerate*}\n",
       "\\item 1\n",
       "\\item 6\n",
       "\\item 2\n",
       "\\end{enumerate*}\n"
      ],
      "text/markdown": [
       "1. 1\n",
       "2. 6\n",
       "3. 2\n",
       "\n",
       "\n"
      ],
      "text/plain": [
       "[1] 1 6 2"
      ]
     },
     "metadata": {},
     "output_type": "display_data"
    }
   ],
   "source": [
    "x"
   ]
  },
  {
   "cell_type": "code",
   "execution_count": 14,
   "metadata": {},
   "outputs": [],
   "source": [
    "y = c(1,4,3)"
   ]
  },
  {
   "cell_type": "code",
   "execution_count": 15,
   "metadata": {},
   "outputs": [
    {
     "data": {
      "text/html": [
       "<ol class=list-inline>\n",
       "\t<li>1</li>\n",
       "\t<li>4</li>\n",
       "\t<li>3</li>\n",
       "</ol>\n"
      ],
      "text/latex": [
       "\\begin{enumerate*}\n",
       "\\item 1\n",
       "\\item 4\n",
       "\\item 3\n",
       "\\end{enumerate*}\n"
      ],
      "text/markdown": [
       "1. 1\n",
       "2. 4\n",
       "3. 3\n",
       "\n",
       "\n"
      ],
      "text/plain": [
       "[1] 1 4 3"
      ]
     },
     "metadata": {},
     "output_type": "display_data"
    }
   ],
   "source": [
    "y"
   ]
  },
  {
   "cell_type": "code",
   "execution_count": 16,
   "metadata": {},
   "outputs": [
    {
     "data": {
      "text/html": [
       "3"
      ],
      "text/latex": [
       "3"
      ],
      "text/markdown": [
       "3"
      ],
      "text/plain": [
       "[1] 3"
      ]
     },
     "metadata": {},
     "output_type": "display_data"
    }
   ],
   "source": [
    "length(x)"
   ]
  },
  {
   "cell_type": "code",
   "execution_count": 17,
   "metadata": {},
   "outputs": [
    {
     "data": {
      "text/html": [
       "3"
      ],
      "text/latex": [
       "3"
      ],
      "text/markdown": [
       "3"
      ],
      "text/plain": [
       "[1] 3"
      ]
     },
     "metadata": {},
     "output_type": "display_data"
    }
   ],
   "source": [
    "length(y)"
   ]
  },
  {
   "cell_type": "code",
   "execution_count": 18,
   "metadata": {},
   "outputs": [
    {
     "data": {
      "text/html": [
       "<ol class=list-inline>\n",
       "\t<li>2</li>\n",
       "\t<li>10</li>\n",
       "\t<li>5</li>\n",
       "</ol>\n"
      ],
      "text/latex": [
       "\\begin{enumerate*}\n",
       "\\item 2\n",
       "\\item 10\n",
       "\\item 5\n",
       "\\end{enumerate*}\n"
      ],
      "text/markdown": [
       "1. 2\n",
       "2. 10\n",
       "3. 5\n",
       "\n",
       "\n"
      ],
      "text/plain": [
       "[1]  2 10  5"
      ]
     },
     "metadata": {},
     "output_type": "display_data"
    }
   ],
   "source": [
    "x + y"
   ]
  },
  {
   "cell_type": "code",
   "execution_count": 19,
   "metadata": {},
   "outputs": [
    {
     "data": {
      "text/html": [
       "<ol class=list-inline>\n",
       "\t<li>'x'</li>\n",
       "\t<li>'y'</li>\n",
       "</ol>\n"
      ],
      "text/latex": [
       "\\begin{enumerate*}\n",
       "\\item 'x'\n",
       "\\item 'y'\n",
       "\\end{enumerate*}\n"
      ],
      "text/markdown": [
       "1. 'x'\n",
       "2. 'y'\n",
       "\n",
       "\n"
      ],
      "text/plain": [
       "[1] \"x\" \"y\""
      ]
     },
     "metadata": {},
     "output_type": "display_data"
    }
   ],
   "source": [
    "ls()"
   ]
  },
  {
   "cell_type": "code",
   "execution_count": 21,
   "metadata": {},
   "outputs": [
    {
     "data": {
      "text/html": [
       "\n",
       "<table width=\"100%\" summary=\"page for matrix {base}\"><tr><td>matrix {base}</td><td style=\"text-align: right;\">R Documentation</td></tr></table>\n",
       "\n",
       "<h2>Matrices</h2>\n",
       "\n",
       "<h3>Description</h3>\n",
       "\n",
       "<p><code>matrix</code> creates a matrix from the given set of values.\n",
       "</p>\n",
       "<p><code>as.matrix</code> attempts to turn its argument into a matrix.\n",
       "</p>\n",
       "<p><code>is.matrix</code> tests if its argument is a (strict) matrix.\n",
       "</p>\n",
       "\n",
       "\n",
       "<h3>Usage</h3>\n",
       "\n",
       "<pre>\n",
       "matrix(data = NA, nrow = 1, ncol = 1, byrow = FALSE,\n",
       "       dimnames = NULL)\n",
       "\n",
       "as.matrix(x, ...)\n",
       "## S3 method for class 'data.frame'\n",
       "as.matrix(x, rownames.force = NA, ...)\n",
       "\n",
       "is.matrix(x)\n",
       "</pre>\n",
       "\n",
       "\n",
       "<h3>Arguments</h3>\n",
       "\n",
       "<table summary=\"R argblock\">\n",
       "<tr valign=\"top\"><td><code>data</code></td>\n",
       "<td>\n",
       "<p>an optional data vector (including a list or\n",
       "<code>expression</code> vector).  Non-atomic classed <span style=\"font-family: Courier New, Courier; color: #666666;\"><b>R</b></span> objects are\n",
       "coerced by <code>as.vector</code> and all attributes discarded.</p>\n",
       "</td></tr>\n",
       "<tr valign=\"top\"><td><code>nrow</code></td>\n",
       "<td>\n",
       "<p>the desired number of rows.</p>\n",
       "</td></tr>\n",
       "<tr valign=\"top\"><td><code>ncol</code></td>\n",
       "<td>\n",
       "<p>the desired number of columns.</p>\n",
       "</td></tr>\n",
       "<tr valign=\"top\"><td><code>byrow</code></td>\n",
       "<td>\n",
       "<p>logical. If <code>FALSE</code> (the default) the matrix is\n",
       "filled by columns, otherwise the matrix is filled by rows.</p>\n",
       "</td></tr>\n",
       "<tr valign=\"top\"><td><code>dimnames</code></td>\n",
       "<td>\n",
       "<p>A <code>dimnames</code> attribute for the matrix:\n",
       "<code>NULL</code> or a <code>list</code> of length 2 giving the row and column\n",
       "names respectively.  An empty list is treated as <code>NULL</code>, and a\n",
       "list of length one as row names.  The list can be named, and the\n",
       "list names will be used as names for the dimensions.</p>\n",
       "</td></tr>\n",
       "<tr valign=\"top\"><td><code>x</code></td>\n",
       "<td>\n",
       "<p>an <span style=\"font-family: Courier New, Courier; color: #666666;\"><b>R</b></span> object.</p>\n",
       "</td></tr>\n",
       "<tr valign=\"top\"><td><code>...</code></td>\n",
       "<td>\n",
       "<p>additional arguments to be passed to or from methods.</p>\n",
       "</td></tr>\n",
       "<tr valign=\"top\"><td><code>rownames.force</code></td>\n",
       "<td>\n",
       "<p>logical indicating if the resulting matrix\n",
       "should have character (rather than <code>NULL</code>)\n",
       "<code>rownames</code>.  The default, <code>NA</code>, uses <code>NULL</code>\n",
       "rownames if the data frame has &lsquo;automatic&rsquo; row.names or for a\n",
       "zero-row data frame.</p>\n",
       "</td></tr>\n",
       "</table>\n",
       "\n",
       "\n",
       "<h3>Details</h3>\n",
       "\n",
       "<p>If one of <code>nrow</code> or <code>ncol</code> is not given, an attempt is\n",
       "made to infer it from the length of <code>data</code> and the other\n",
       "parameter.  If neither is given, a one-column matrix is returned.\n",
       "</p>\n",
       "<p>If there are too few elements in <code>data</code> to fill the matrix,\n",
       "then the elements in <code>data</code> are recycled.  If <code>data</code> has\n",
       "length zero, <code>NA</code> of an appropriate type is used for atomic\n",
       "vectors (<code>0</code> for raw vectors) and <code>NULL</code> for lists.\n",
       "</p>\n",
       "<p><code>is.matrix</code> returns <code>TRUE</code> if <code>x</code> is a vector and has a\n",
       "<code>\"dim\"</code> attribute of length 2 and <code>FALSE</code> otherwise.\n",
       "Note that a <code>data.frame</code> is <strong>not</strong> a matrix by this\n",
       "test.  The function is generic: you can write methods to handle\n",
       "specific classes of objects, see InternalMethods.\n",
       "</p>\n",
       "<p><code>as.matrix</code> is a generic function.  The method for data frames\n",
       "will return a character matrix if there is only atomic columns and any\n",
       "non-(numeric/logical/complex) column, applying <code>as.vector</code>\n",
       "to factors and <code>format</code> to other non-character columns.\n",
       "Otherwise, the usual coercion hierarchy (logical &lt; integer &lt; double &lt;\n",
       "complex) will be used, e.g., all-logical data frames will be coerced\n",
       "to a logical matrix, mixed logical-integer will give a integer matrix,\n",
       "etc.\n",
       "</p>\n",
       "<p>The default method for <code>as.matrix</code> calls <code>as.vector(x)</code>, and\n",
       "hence e.g. coerces factors to character vectors.\n",
       "</p>\n",
       "<p>When coercing a vector, it produces a one-column matrix, and\n",
       "promotes the names (if any) of the vector to the rownames of the matrix.\n",
       "</p>\n",
       "<p><code>is.matrix</code> is a primitive function.\n",
       "</p>\n",
       "<p>The <code>print</code> method for a matrix gives a rectangular layout with\n",
       "dimnames or indices.  For a list matrix, the entries of length not\n",
       "one are printed in  the form <span class=\"samp\">integer,7</span> indicating the type\n",
       "and length.\n",
       "</p>\n",
       "\n",
       "\n",
       "<h3>Note</h3>\n",
       "\n",
       "<p>If you just want to convert a vector to a matrix, something like\n",
       "</p>\n",
       "<pre>  dim(x) &lt;- c(nx, ny)\n",
       "  dimnames(x) &lt;- list(row_names, col_names)\n",
       "</pre>\n",
       "<p>will avoid duplicating <code>x</code>.\n",
       "</p>\n",
       "\n",
       "\n",
       "<h3>References</h3>\n",
       "\n",
       "<p>Becker, R. A., Chambers, J. M. and Wilks, A. R. (1988)\n",
       "<em>The New S Language</em>.\n",
       "Wadsworth &amp; Brooks/Cole.\n",
       "</p>\n",
       "\n",
       "\n",
       "<h3>See Also</h3>\n",
       "\n",
       "<p><code>data.matrix</code>, which attempts to convert to a numeric\n",
       "matrix.\n",
       "</p>\n",
       "<p>A matrix is the special case of a two-dimensional <code>array</code>.\n",
       "</p>\n",
       "\n",
       "\n",
       "<h3>Examples</h3>\n",
       "\n",
       "<pre>\n",
       "is.matrix(as.matrix(1:10))\n",
       "!is.matrix(warpbreaks)  # data.frame, NOT matrix!\n",
       "warpbreaks[1:10,]\n",
       "as.matrix(warpbreaks[1:10,])  # using as.matrix.data.frame(.) method\n",
       "\n",
       "## Example of setting row and column names\n",
       "mdat &lt;- matrix(c(1,2,3, 11,12,13), nrow = 2, ncol = 3, byrow = TRUE,\n",
       "               dimnames = list(c(\"row1\", \"row2\"),\n",
       "                               c(\"C.1\", \"C.2\", \"C.3\")))\n",
       "mdat\n",
       "</pre>\n",
       "\n",
       "<hr /><div style=\"text-align: center;\">[Package <em>base</em> version 3.5.1 ]</div>"
      ],
      "text/latex": [
       "\\inputencoding{utf8}\n",
       "\\HeaderA{matrix}{Matrices}{matrix}\n",
       "\\aliasA{as.matrix}{matrix}{as.matrix}\n",
       "\\methaliasA{as.matrix.data.frame}{matrix}{as.matrix.data.frame}\n",
       "\\methaliasA{as.matrix.default}{matrix}{as.matrix.default}\n",
       "\\aliasA{is.matrix}{matrix}{is.matrix}\n",
       "\\keyword{array}{matrix}\n",
       "\\keyword{algebra}{matrix}\n",
       "%\n",
       "\\begin{Description}\\relax\n",
       "\\code{matrix} creates a matrix from the given set of values.\n",
       "\n",
       "\\code{as.matrix} attempts to turn its argument into a matrix.\n",
       "\n",
       "\\code{is.matrix} tests if its argument is a (strict) matrix.\n",
       "\\end{Description}\n",
       "%\n",
       "\\begin{Usage}\n",
       "\\begin{verbatim}\n",
       "matrix(data = NA, nrow = 1, ncol = 1, byrow = FALSE,\n",
       "       dimnames = NULL)\n",
       "\n",
       "as.matrix(x, ...)\n",
       "## S3 method for class 'data.frame'\n",
       "as.matrix(x, rownames.force = NA, ...)\n",
       "\n",
       "is.matrix(x)\n",
       "\\end{verbatim}\n",
       "\\end{Usage}\n",
       "%\n",
       "\\begin{Arguments}\n",
       "\\begin{ldescription}\n",
       "\\item[\\code{data}] an optional data vector (including a list or\n",
       "\\code{\\LinkA{expression}{expression}} vector).  Non-atomic classed \\R{} objects are\n",
       "coerced by \\code{\\LinkA{as.vector}{as.vector}} and all attributes discarded.\n",
       "\\item[\\code{nrow}] the desired number of rows.\n",
       "\\item[\\code{ncol}] the desired number of columns.\n",
       "\\item[\\code{byrow}] logical. If \\code{FALSE} (the default) the matrix is\n",
       "filled by columns, otherwise the matrix is filled by rows.\n",
       "\\item[\\code{dimnames}] A \\code{\\LinkA{dimnames}{dimnames}} attribute for the matrix:\n",
       "\\code{NULL} or a \\code{list} of length 2 giving the row and column\n",
       "names respectively.  An empty list is treated as \\code{NULL}, and a\n",
       "list of length one as row names.  The list can be named, and the\n",
       "list names will be used as names for the dimensions.\n",
       "\\item[\\code{x}] an \\R{} object.\n",
       "\\item[\\code{...}] additional arguments to be passed to or from methods.\n",
       "\\item[\\code{rownames.force}] logical indicating if the resulting matrix\n",
       "should have character (rather than \\code{NULL})\n",
       "\\code{\\LinkA{rownames}{rownames}}.  The default, \\code{NA}, uses \\code{NULL}\n",
       "rownames if the data frame has `automatic' row.names or for a\n",
       "zero-row data frame.\n",
       "\\end{ldescription}\n",
       "\\end{Arguments}\n",
       "%\n",
       "\\begin{Details}\\relax\n",
       "If one of \\code{nrow} or \\code{ncol} is not given, an attempt is\n",
       "made to infer it from the length of \\code{data} and the other\n",
       "parameter.  If neither is given, a one-column matrix is returned.\n",
       "\n",
       "If there are too few elements in \\code{data} to fill the matrix,\n",
       "then the elements in \\code{data} are recycled.  If \\code{data} has\n",
       "length zero, \\code{NA} of an appropriate type is used for atomic\n",
       "vectors (\\code{0} for raw vectors) and \\code{NULL} for lists.\n",
       "\n",
       "\\code{is.matrix} returns \\code{TRUE} if \\code{x} is a vector and has a\n",
       "\\code{\"\\LinkA{dim}{dim}\"} attribute of length 2 and \\code{FALSE} otherwise.\n",
       "Note that a \\code{\\LinkA{data.frame}{data.frame}} is \\strong{not} a matrix by this\n",
       "test.  The function is generic: you can write methods to handle\n",
       "specific classes of objects, see \\LinkA{InternalMethods}{InternalMethods}.\n",
       "\n",
       "\\code{as.matrix} is a generic function.  The method for data frames\n",
       "will return a character matrix if there is only atomic columns and any\n",
       "non-(numeric/logical/complex) column, applying \\code{\\LinkA{as.vector}{as.vector}}\n",
       "to factors and \\code{\\LinkA{format}{format}} to other non-character columns.\n",
       "Otherwise, the usual coercion hierarchy (logical < integer < double <\n",
       "complex) will be used, e.g., all-logical data frames will be coerced\n",
       "to a logical matrix, mixed logical-integer will give a integer matrix,\n",
       "etc.\n",
       "\n",
       "The default method for \\code{as.matrix} calls \\code{as.vector(x)}, and\n",
       "hence e.g.~coerces factors to character vectors.\n",
       "\n",
       "When coercing a vector, it produces a one-column matrix, and\n",
       "promotes the names (if any) of the vector to the rownames of the matrix.\n",
       "\n",
       "\\code{is.matrix} is a \\LinkA{primitive}{primitive} function.\n",
       "\n",
       "The \\code{print} method for a matrix gives a rectangular layout with\n",
       "dimnames or indices.  For a list matrix, the entries of length not\n",
       "one are printed in  the form \\samp{integer,7} indicating the type\n",
       "and length.\n",
       "\\end{Details}\n",
       "%\n",
       "\\begin{Note}\\relax\n",
       "If you just want to convert a vector to a matrix, something like\n",
       "\\begin{alltt}  dim(x) <- c(nx, ny)\n",
       "  dimnames(x) <- list(row_names, col_names)\n",
       "\\end{alltt}\n",
       "\n",
       "will avoid duplicating \\code{x}.\n",
       "\\end{Note}\n",
       "%\n",
       "\\begin{References}\\relax\n",
       "Becker, R. A., Chambers, J. M. and Wilks, A. R. (1988)\n",
       "\\emph{The New S Language}.\n",
       "Wadsworth \\& Brooks/Cole.\n",
       "\\end{References}\n",
       "%\n",
       "\\begin{SeeAlso}\\relax\n",
       "\\code{\\LinkA{data.matrix}{data.matrix}}, which attempts to convert to a numeric\n",
       "matrix.\n",
       "\n",
       "A matrix is the special case of a two-dimensional \\code{\\LinkA{array}{array}}.\n",
       "\\end{SeeAlso}\n",
       "%\n",
       "\\begin{Examples}\n",
       "\\begin{ExampleCode}\n",
       "is.matrix(as.matrix(1:10))\n",
       "!is.matrix(warpbreaks)  # data.frame, NOT matrix!\n",
       "warpbreaks[1:10,]\n",
       "as.matrix(warpbreaks[1:10,])  # using as.matrix.data.frame(.) method\n",
       "\n",
       "## Example of setting row and column names\n",
       "mdat <- matrix(c(1,2,3, 11,12,13), nrow = 2, ncol = 3, byrow = TRUE,\n",
       "               dimnames = list(c(\"row1\", \"row2\"),\n",
       "                               c(\"C.1\", \"C.2\", \"C.3\")))\n",
       "mdat\n",
       "\\end{ExampleCode}\n",
       "\\end{Examples}"
      ],
      "text/plain": [
       "matrix                  package:base                   R Documentation\n",
       "\n",
       "_\bM_\ba_\bt_\br_\bi_\bc_\be_\bs\n",
       "\n",
       "_\bD_\be_\bs_\bc_\br_\bi_\bp_\bt_\bi_\bo_\bn:\n",
       "\n",
       "     ‘matrix’ creates a matrix from the given set of values.\n",
       "\n",
       "     ‘as.matrix’ attempts to turn its argument into a matrix.\n",
       "\n",
       "     ‘is.matrix’ tests if its argument is a (strict) matrix.\n",
       "\n",
       "_\bU_\bs_\ba_\bg_\be:\n",
       "\n",
       "     matrix(data = NA, nrow = 1, ncol = 1, byrow = FALSE,\n",
       "            dimnames = NULL)\n",
       "     \n",
       "     as.matrix(x, ...)\n",
       "     ## S3 method for class 'data.frame'\n",
       "     as.matrix(x, rownames.force = NA, ...)\n",
       "     \n",
       "     is.matrix(x)\n",
       "     \n",
       "_\bA_\br_\bg_\bu_\bm_\be_\bn_\bt_\bs:\n",
       "\n",
       "    data: an optional data vector (including a list or ‘expression’\n",
       "          vector).  Non-atomic classed R objects are coerced by\n",
       "          ‘as.vector’ and all attributes discarded.\n",
       "\n",
       "    nrow: the desired number of rows.\n",
       "\n",
       "    ncol: the desired number of columns.\n",
       "\n",
       "   byrow: logical. If ‘FALSE’ (the default) the matrix is filled by\n",
       "          columns, otherwise the matrix is filled by rows.\n",
       "\n",
       "dimnames: A ‘dimnames’ attribute for the matrix: ‘NULL’ or a ‘list’ of\n",
       "          length 2 giving the row and column names respectively.  An\n",
       "          empty list is treated as ‘NULL’, and a list of length one as\n",
       "          row names.  The list can be named, and the list names will be\n",
       "          used as names for the dimensions.\n",
       "\n",
       "       x: an R object.\n",
       "\n",
       "     ...: additional arguments to be passed to or from methods.\n",
       "\n",
       "rownames.force: logical indicating if the resulting matrix should have\n",
       "          character (rather than ‘NULL’) ‘rownames’.  The default,\n",
       "          ‘NA’, uses ‘NULL’ rownames if the data frame has ‘automatic’\n",
       "          row.names or for a zero-row data frame.\n",
       "\n",
       "_\bD_\be_\bt_\ba_\bi_\bl_\bs:\n",
       "\n",
       "     If one of ‘nrow’ or ‘ncol’ is not given, an attempt is made to\n",
       "     infer it from the length of ‘data’ and the other parameter.  If\n",
       "     neither is given, a one-column matrix is returned.\n",
       "\n",
       "     If there are too few elements in ‘data’ to fill the matrix, then\n",
       "     the elements in ‘data’ are recycled.  If ‘data’ has length zero,\n",
       "     ‘NA’ of an appropriate type is used for atomic vectors (‘0’ for\n",
       "     raw vectors) and ‘NULL’ for lists.\n",
       "\n",
       "     ‘is.matrix’ returns ‘TRUE’ if ‘x’ is a vector and has a ‘\"dim\"’\n",
       "     attribute of length 2 and ‘FALSE’ otherwise.  Note that a\n",
       "     ‘data.frame’ is *not* a matrix by this test.  The function is\n",
       "     generic: you can write methods to handle specific classes of\n",
       "     objects, see InternalMethods.\n",
       "\n",
       "     ‘as.matrix’ is a generic function.  The method for data frames\n",
       "     will return a character matrix if there is only atomic columns and\n",
       "     any non-(numeric/logical/complex) column, applying ‘as.vector’ to\n",
       "     factors and ‘format’ to other non-character columns.  Otherwise,\n",
       "     the usual coercion hierarchy (logical < integer < double <\n",
       "     complex) will be used, e.g., all-logical data frames will be\n",
       "     coerced to a logical matrix, mixed logical-integer will give a\n",
       "     integer matrix, etc.\n",
       "\n",
       "     The default method for ‘as.matrix’ calls ‘as.vector(x)’, and hence\n",
       "     e.g. coerces factors to character vectors.\n",
       "\n",
       "     When coercing a vector, it produces a one-column matrix, and\n",
       "     promotes the names (if any) of the vector to the rownames of the\n",
       "     matrix.\n",
       "\n",
       "     ‘is.matrix’ is a primitive function.\n",
       "\n",
       "     The ‘print’ method for a matrix gives a rectangular layout with\n",
       "     dimnames or indices.  For a list matrix, the entries of length not\n",
       "     one are printed in the form ‘integer,7’ indicating the type and\n",
       "     length.\n",
       "\n",
       "_\bN_\bo_\bt_\be:\n",
       "\n",
       "     If you just want to convert a vector to a matrix, something like\n",
       "     \n",
       "       dim(x) <- c(nx, ny)\n",
       "       dimnames(x) <- list(row_names, col_names)\n",
       "\n",
       "     will avoid duplicating ‘x’.\n",
       "\n",
       "_\bR_\be_\bf_\be_\br_\be_\bn_\bc_\be_\bs:\n",
       "\n",
       "     Becker, R. A., Chambers, J. M. and Wilks, A. R. (1988) _The New S\n",
       "     Language_.  Wadsworth & Brooks/Cole.\n",
       "\n",
       "_\bS_\be_\be _\bA_\bl_\bs_\bo:\n",
       "\n",
       "     ‘data.matrix’, which attempts to convert to a numeric matrix.\n",
       "\n",
       "     A matrix is the special case of a two-dimensional ‘array’.\n",
       "\n",
       "_\bE_\bx_\ba_\bm_\bp_\bl_\be_\bs:\n",
       "\n",
       "     is.matrix(as.matrix(1:10))\n",
       "     !is.matrix(warpbreaks)  # data.frame, NOT matrix!\n",
       "     warpbreaks[1:10,]\n",
       "     as.matrix(warpbreaks[1:10,])  # using as.matrix.data.frame(.) method\n",
       "     \n",
       "     ## Example of setting row and column names\n",
       "     mdat <- matrix(c(1,2,3, 11,12,13), nrow = 2, ncol = 3, byrow = TRUE,\n",
       "                    dimnames = list(c(\"row1\", \"row2\"),\n",
       "                                    c(\"C.1\", \"C.2\", \"C.3\")))\n",
       "     mdat\n",
       "     "
      ]
     },
     "metadata": {},
     "output_type": "display_data"
    }
   ],
   "source": [
    "?matrix"
   ]
  },
  {
   "cell_type": "code",
   "execution_count": 22,
   "metadata": {},
   "outputs": [],
   "source": [
    "x = matrix(data=c(1,2,3,4), nrow=2, ncol=2)"
   ]
  },
  {
   "cell_type": "code",
   "execution_count": 23,
   "metadata": {},
   "outputs": [
    {
     "data": {
      "text/html": [
       "<table>\n",
       "<tbody>\n",
       "\t<tr><td>1</td><td>3</td></tr>\n",
       "\t<tr><td>2</td><td>4</td></tr>\n",
       "</tbody>\n",
       "</table>\n"
      ],
      "text/latex": [
       "\\begin{tabular}{ll}\n",
       "\t 1 & 3\\\\\n",
       "\t 2 & 4\\\\\n",
       "\\end{tabular}\n"
      ],
      "text/markdown": [
       "\n",
       "| 1 | 3 | \n",
       "| 2 | 4 | \n",
       "\n",
       "\n"
      ],
      "text/plain": [
       "     [,1] [,2]\n",
       "[1,] 1    3   \n",
       "[2,] 2    4   "
      ]
     },
     "metadata": {},
     "output_type": "display_data"
    }
   ],
   "source": [
    "x"
   ]
  },
  {
   "cell_type": "code",
   "execution_count": 24,
   "metadata": {},
   "outputs": [],
   "source": [
    "x = matrix(c(1,2,3,4), 2, 2)"
   ]
  },
  {
   "cell_type": "code",
   "execution_count": 25,
   "metadata": {},
   "outputs": [
    {
     "data": {
      "text/html": [
       "<table>\n",
       "<tbody>\n",
       "\t<tr><td>1</td><td>3</td></tr>\n",
       "\t<tr><td>2</td><td>4</td></tr>\n",
       "</tbody>\n",
       "</table>\n"
      ],
      "text/latex": [
       "\\begin{tabular}{ll}\n",
       "\t 1 & 3\\\\\n",
       "\t 2 & 4\\\\\n",
       "\\end{tabular}\n"
      ],
      "text/markdown": [
       "\n",
       "| 1 | 3 | \n",
       "| 2 | 4 | \n",
       "\n",
       "\n"
      ],
      "text/plain": [
       "     [,1] [,2]\n",
       "[1,] 1    3   \n",
       "[2,] 2    4   "
      ]
     },
     "metadata": {},
     "output_type": "display_data"
    }
   ],
   "source": [
    "x"
   ]
  },
  {
   "cell_type": "code",
   "execution_count": 26,
   "metadata": {},
   "outputs": [
    {
     "data": {
      "text/html": [
       "<table>\n",
       "<tbody>\n",
       "\t<tr><td>1.000000</td><td>1.732051</td></tr>\n",
       "\t<tr><td>1.414214</td><td>2.000000</td></tr>\n",
       "</tbody>\n",
       "</table>\n"
      ],
      "text/latex": [
       "\\begin{tabular}{ll}\n",
       "\t 1.000000 & 1.732051\\\\\n",
       "\t 1.414214 & 2.000000\\\\\n",
       "\\end{tabular}\n"
      ],
      "text/markdown": [
       "\n",
       "| 1.000000 | 1.732051 | \n",
       "| 1.414214 | 2.000000 | \n",
       "\n",
       "\n"
      ],
      "text/plain": [
       "     [,1]     [,2]    \n",
       "[1,] 1.000000 1.732051\n",
       "[2,] 1.414214 2.000000"
      ]
     },
     "metadata": {},
     "output_type": "display_data"
    }
   ],
   "source": [
    "sqrt(x)"
   ]
  },
  {
   "cell_type": "code",
   "execution_count": 27,
   "metadata": {},
   "outputs": [
    {
     "data": {
      "text/html": [
       "<table>\n",
       "<tbody>\n",
       "\t<tr><td>1 </td><td> 9</td></tr>\n",
       "\t<tr><td>4 </td><td>16</td></tr>\n",
       "</tbody>\n",
       "</table>\n"
      ],
      "text/latex": [
       "\\begin{tabular}{ll}\n",
       "\t 1  &  9\\\\\n",
       "\t 4  & 16\\\\\n",
       "\\end{tabular}\n"
      ],
      "text/markdown": [
       "\n",
       "| 1  |  9 | \n",
       "| 4  | 16 | \n",
       "\n",
       "\n"
      ],
      "text/plain": [
       "     [,1] [,2]\n",
       "[1,] 1     9  \n",
       "[2,] 4    16  "
      ]
     },
     "metadata": {},
     "output_type": "display_data"
    }
   ],
   "source": [
    "x**2"
   ]
  },
  {
   "cell_type": "code",
   "execution_count": 28,
   "metadata": {},
   "outputs": [
    {
     "data": {
      "text/html": [
       "\n",
       "<table width=\"100%\" summary=\"page for Normal {stats}\"><tr><td>Normal {stats}</td><td style=\"text-align: right;\">R Documentation</td></tr></table>\n",
       "\n",
       "<h2>The Normal Distribution</h2>\n",
       "\n",
       "<h3>Description</h3>\n",
       "\n",
       "<p>Density, distribution function, quantile function and random\n",
       "generation for the normal distribution with mean equal to <code>mean</code>\n",
       "and standard deviation equal to <code>sd</code>.\n",
       "</p>\n",
       "\n",
       "\n",
       "<h3>Usage</h3>\n",
       "\n",
       "<pre>\n",
       "dnorm(x, mean = 0, sd = 1, log = FALSE)\n",
       "pnorm(q, mean = 0, sd = 1, lower.tail = TRUE, log.p = FALSE)\n",
       "qnorm(p, mean = 0, sd = 1, lower.tail = TRUE, log.p = FALSE)\n",
       "rnorm(n, mean = 0, sd = 1)\n",
       "</pre>\n",
       "\n",
       "\n",
       "<h3>Arguments</h3>\n",
       "\n",
       "<table summary=\"R argblock\">\n",
       "<tr valign=\"top\"><td><code>x, q</code></td>\n",
       "<td>\n",
       "<p>vector of quantiles.</p>\n",
       "</td></tr>\n",
       "<tr valign=\"top\"><td><code>p</code></td>\n",
       "<td>\n",
       "<p>vector of probabilities.</p>\n",
       "</td></tr>\n",
       "<tr valign=\"top\"><td><code>n</code></td>\n",
       "<td>\n",
       "<p>number of observations. If <code>length(n) &gt; 1</code>, the length\n",
       "is taken to be the number required.</p>\n",
       "</td></tr>\n",
       "<tr valign=\"top\"><td><code>mean</code></td>\n",
       "<td>\n",
       "<p>vector of means.</p>\n",
       "</td></tr>\n",
       "<tr valign=\"top\"><td><code>sd</code></td>\n",
       "<td>\n",
       "<p>vector of standard deviations.</p>\n",
       "</td></tr>\n",
       "<tr valign=\"top\"><td><code>log, log.p</code></td>\n",
       "<td>\n",
       "<p>logical; if TRUE, probabilities p are given as log(p).</p>\n",
       "</td></tr>\n",
       "<tr valign=\"top\"><td><code>lower.tail</code></td>\n",
       "<td>\n",
       "<p>logical; if TRUE (default), probabilities are\n",
       "<i>P[X &le; x]</i> otherwise, <i>P[X &gt; x]</i>.</p>\n",
       "</td></tr>\n",
       "</table>\n",
       "\n",
       "\n",
       "<h3>Details</h3>\n",
       "\n",
       "<p>If <code>mean</code> or <code>sd</code> are not specified they assume the default\n",
       "values of <code>0</code> and <code>1</code>, respectively.\n",
       "</p>\n",
       "<p>The normal distribution has density\n",
       "</p>\n",
       "<p style=\"text-align: center;\"><i>\n",
       "    f(x) = 1/(&radic;(2 &pi;) &sigma;) e^-((x - &mu;)^2/(2 &sigma;^2))\n",
       "  </i></p>\n",
       "\n",
       "<p>where <i>&mu;</i> is the mean of the distribution and\n",
       "<i>&sigma;</i> the standard deviation.\n",
       "</p>\n",
       "\n",
       "\n",
       "<h3>Value</h3>\n",
       "\n",
       "<p><code>dnorm</code> gives the density,\n",
       "<code>pnorm</code> gives the distribution function,\n",
       "<code>qnorm</code> gives the quantile function, and\n",
       "<code>rnorm</code> generates random deviates.\n",
       "</p>\n",
       "<p>The length of the result is determined by <code>n</code> for\n",
       "<code>rnorm</code>, and is the maximum of the lengths of the\n",
       "numerical arguments for the other functions.  \n",
       "</p>\n",
       "<p>The numerical arguments other than <code>n</code> are recycled to the\n",
       "length of the result.  Only the first elements of the logical\n",
       "arguments are used.\n",
       "</p>\n",
       "<p>For <code>sd = 0</code> this gives the limit as <code>sd</code> decreases to 0, a\n",
       "point mass at <code>mu</code>.\n",
       "<code>sd &lt; 0</code> is an error and returns <code>NaN</code>.\n",
       "</p>\n",
       "\n",
       "\n",
       "<h3>Source</h3>\n",
       "\n",
       "<p>For <code>pnorm</code>, based on\n",
       "</p>\n",
       "<p>Cody, W. D. (1993)\n",
       "Algorithm 715: SPECFUN &ndash; A portable FORTRAN package of special\n",
       "function routines and test drivers.\n",
       "<em>ACM Transactions on Mathematical Software</em> <b>19</b>, 22&ndash;32.\n",
       "</p>\n",
       "<p>For <code>qnorm</code>, the code is a C translation of\n",
       "</p>\n",
       "<p>Wichura, M. J. (1988)\n",
       "Algorithm AS 241: The percentage points of the normal distribution.\n",
       "<em>Applied Statistics</em>, <b>37</b>, 477&ndash;484.\n",
       "</p>\n",
       "<p>which provides precise results up to about 16 digits.\n",
       "</p>\n",
       "<p>For <code>rnorm</code>, see RNG for how to select the algorithm and\n",
       "for references to the supplied methods.\n",
       "</p>\n",
       "\n",
       "\n",
       "<h3>References</h3>\n",
       "\n",
       "<p>Becker, R. A., Chambers, J. M. and Wilks, A. R. (1988)\n",
       "<em>The New S Language</em>.\n",
       "Wadsworth &amp; Brooks/Cole.\n",
       "</p>\n",
       "<p>Johnson, N. L., Kotz, S. and Balakrishnan, N. (1995)\n",
       "<em>Continuous Univariate Distributions</em>, volume 1, chapter 13.\n",
       "Wiley, New York.\n",
       "</p>\n",
       "\n",
       "\n",
       "<h3>See Also</h3>\n",
       "\n",
       "<p>Distributions for other standard distributions, including\n",
       "<code>dlnorm</code> for the <em>Log</em>normal distribution.\n",
       "</p>\n",
       "\n",
       "\n",
       "<h3>Examples</h3>\n",
       "\n",
       "<pre>\n",
       "require(graphics)\n",
       "\n",
       "dnorm(0) == 1/sqrt(2*pi)\n",
       "dnorm(1) == exp(-1/2)/sqrt(2*pi)\n",
       "dnorm(1) == 1/sqrt(2*pi*exp(1))\n",
       "\n",
       "## Using \"log = TRUE\" for an extended range :\n",
       "par(mfrow = c(2,1))\n",
       "plot(function(x) dnorm(x, log = TRUE), -60, 50,\n",
       "     main = \"log { Normal density }\")\n",
       "curve(log(dnorm(x)), add = TRUE, col = \"red\", lwd = 2)\n",
       "mtext(\"dnorm(x, log=TRUE)\", adj = 0)\n",
       "mtext(\"log(dnorm(x))\", col = \"red\", adj = 1)\n",
       "\n",
       "plot(function(x) pnorm(x, log.p = TRUE), -50, 10,\n",
       "     main = \"log { Normal Cumulative }\")\n",
       "curve(log(pnorm(x)), add = TRUE, col = \"red\", lwd = 2)\n",
       "mtext(\"pnorm(x, log=TRUE)\", adj = 0)\n",
       "mtext(\"log(pnorm(x))\", col = \"red\", adj = 1)\n",
       "\n",
       "## if you want the so-called 'error function'\n",
       "erf &lt;- function(x) 2 * pnorm(x * sqrt(2)) - 1\n",
       "## (see Abramowitz and Stegun 29.2.29)\n",
       "## and the so-called 'complementary error function'\n",
       "erfc &lt;- function(x) 2 * pnorm(x * sqrt(2), lower = FALSE)\n",
       "## and the inverses\n",
       "erfinv &lt;- function (x) qnorm((1 + x)/2)/sqrt(2)\n",
       "erfcinv &lt;- function (x) qnorm(x/2, lower = FALSE)/sqrt(2)\n",
       "</pre>\n",
       "\n",
       "<hr /><div style=\"text-align: center;\">[Package <em>stats</em> version 3.5.1 ]</div>"
      ],
      "text/latex": [
       "\\inputencoding{utf8}\n",
       "\\HeaderA{Normal}{The Normal Distribution}{Normal}\n",
       "\\aliasA{dnorm}{Normal}{dnorm}\n",
       "\\aliasA{pnorm}{Normal}{pnorm}\n",
       "\\aliasA{qnorm}{Normal}{qnorm}\n",
       "\\aliasA{rnorm}{Normal}{rnorm}\n",
       "\\keyword{distribution}{Normal}\n",
       "%\n",
       "\\begin{Description}\\relax\n",
       "Density, distribution function, quantile function and random\n",
       "generation for the normal distribution with mean equal to \\code{mean}\n",
       "and standard deviation equal to \\code{sd}.\n",
       "\\end{Description}\n",
       "%\n",
       "\\begin{Usage}\n",
       "\\begin{verbatim}\n",
       "dnorm(x, mean = 0, sd = 1, log = FALSE)\n",
       "pnorm(q, mean = 0, sd = 1, lower.tail = TRUE, log.p = FALSE)\n",
       "qnorm(p, mean = 0, sd = 1, lower.tail = TRUE, log.p = FALSE)\n",
       "rnorm(n, mean = 0, sd = 1)\n",
       "\\end{verbatim}\n",
       "\\end{Usage}\n",
       "%\n",
       "\\begin{Arguments}\n",
       "\\begin{ldescription}\n",
       "\\item[\\code{x, q}] vector of quantiles.\n",
       "\\item[\\code{p}] vector of probabilities.\n",
       "\\item[\\code{n}] number of observations. If \\code{length(n) > 1}, the length\n",
       "is taken to be the number required.\n",
       "\\item[\\code{mean}] vector of means.\n",
       "\\item[\\code{sd}] vector of standard deviations.\n",
       "\\item[\\code{log, log.p}] logical; if TRUE, probabilities p are given as log(p).\n",
       "\\item[\\code{lower.tail}] logical; if TRUE (default), probabilities are\n",
       "\\eqn{P[X \\le x]}{} otherwise, \\eqn{P[X > x]}{}.\n",
       "\\end{ldescription}\n",
       "\\end{Arguments}\n",
       "%\n",
       "\\begin{Details}\\relax\n",
       "If \\code{mean} or \\code{sd} are not specified they assume the default\n",
       "values of \\code{0} and \\code{1}, respectively.\n",
       "\n",
       "The normal distribution has density\n",
       "\\deqn{\n",
       "    f(x) =\n",
       "    \\frac{1}{\\sqrt{2\\pi}\\sigma} e^{-(x-\\mu)^2/2\\sigma^2}}{}\n",
       "where \\eqn{\\mu}{} is the mean of the distribution and\n",
       "\\eqn{\\sigma}{} the standard deviation.\n",
       "\\end{Details}\n",
       "%\n",
       "\\begin{Value}\n",
       "\\code{dnorm} gives the density,\n",
       "\\code{pnorm} gives the distribution function,\n",
       "\\code{qnorm} gives the quantile function, and\n",
       "\\code{rnorm} generates random deviates.\n",
       "\n",
       "The length of the result is determined by \\code{n} for\n",
       "\\code{rnorm}, and is the maximum of the lengths of the\n",
       "numerical arguments for the other functions.  \n",
       "\n",
       "The numerical arguments other than \\code{n} are recycled to the\n",
       "length of the result.  Only the first elements of the logical\n",
       "arguments are used.\n",
       "\n",
       "For \\code{sd = 0} this gives the limit as \\code{sd} decreases to 0, a\n",
       "point mass at \\code{mu}.\n",
       "\\code{sd < 0} is an error and returns \\code{NaN}.\n",
       "\\end{Value}\n",
       "%\n",
       "\\begin{Source}\\relax\n",
       "For \\code{pnorm}, based on\n",
       "\n",
       "Cody, W. D. (1993)\n",
       "Algorithm 715: SPECFUN -- A portable FORTRAN package of special\n",
       "function routines and test drivers.\n",
       "\\emph{ACM Transactions on Mathematical Software} \\bold{19}, 22--32.\n",
       "\n",
       "For \\code{qnorm}, the code is a C translation of\n",
       "\n",
       "Wichura, M. J. (1988)\n",
       "Algorithm AS 241: The percentage points of the normal distribution.\n",
       "\\emph{Applied Statistics}, \\bold{37}, 477--484.\n",
       "\n",
       "which provides precise results up to about 16 digits.\n",
       "\n",
       "For \\code{rnorm}, see \\LinkA{RNG}{RNG} for how to select the algorithm and\n",
       "for references to the supplied methods.\n",
       "\\end{Source}\n",
       "%\n",
       "\\begin{References}\\relax\n",
       "Becker, R. A., Chambers, J. M. and Wilks, A. R. (1988)\n",
       "\\emph{The New S Language}.\n",
       "Wadsworth \\& Brooks/Cole.\n",
       "\n",
       "Johnson, N. L., Kotz, S. and Balakrishnan, N. (1995)\n",
       "\\emph{Continuous Univariate Distributions}, volume 1, chapter 13.\n",
       "Wiley, New York.\n",
       "\\end{References}\n",
       "%\n",
       "\\begin{SeeAlso}\\relax\n",
       "\\LinkA{Distributions}{Distributions} for other standard distributions, including\n",
       "\\code{\\LinkA{dlnorm}{dlnorm}} for the \\emph{Log}normal distribution.\n",
       "\\end{SeeAlso}\n",
       "%\n",
       "\\begin{Examples}\n",
       "\\begin{ExampleCode}\n",
       "require(graphics)\n",
       "\n",
       "dnorm(0) == 1/sqrt(2*pi)\n",
       "dnorm(1) == exp(-1/2)/sqrt(2*pi)\n",
       "dnorm(1) == 1/sqrt(2*pi*exp(1))\n",
       "\n",
       "## Using \"log = TRUE\" for an extended range :\n",
       "par(mfrow = c(2,1))\n",
       "plot(function(x) dnorm(x, log = TRUE), -60, 50,\n",
       "     main = \"log { Normal density }\")\n",
       "curve(log(dnorm(x)), add = TRUE, col = \"red\", lwd = 2)\n",
       "mtext(\"dnorm(x, log=TRUE)\", adj = 0)\n",
       "mtext(\"log(dnorm(x))\", col = \"red\", adj = 1)\n",
       "\n",
       "plot(function(x) pnorm(x, log.p = TRUE), -50, 10,\n",
       "     main = \"log { Normal Cumulative }\")\n",
       "curve(log(pnorm(x)), add = TRUE, col = \"red\", lwd = 2)\n",
       "mtext(\"pnorm(x, log=TRUE)\", adj = 0)\n",
       "mtext(\"log(pnorm(x))\", col = \"red\", adj = 1)\n",
       "\n",
       "## if you want the so-called 'error function'\n",
       "erf <- function(x) 2 * pnorm(x * sqrt(2)) - 1\n",
       "## (see Abramowitz and Stegun 29.2.29)\n",
       "## and the so-called 'complementary error function'\n",
       "erfc <- function(x) 2 * pnorm(x * sqrt(2), lower = FALSE)\n",
       "## and the inverses\n",
       "erfinv <- function (x) qnorm((1 + x)/2)/sqrt(2)\n",
       "erfcinv <- function (x) qnorm(x/2, lower = FALSE)/sqrt(2)\n",
       "\\end{ExampleCode}\n",
       "\\end{Examples}"
      ],
      "text/plain": [
       "Normal                  package:stats                  R Documentation\n",
       "\n",
       "_\bT_\bh_\be _\bN_\bo_\br_\bm_\ba_\bl _\bD_\bi_\bs_\bt_\br_\bi_\bb_\bu_\bt_\bi_\bo_\bn\n",
       "\n",
       "_\bD_\be_\bs_\bc_\br_\bi_\bp_\bt_\bi_\bo_\bn:\n",
       "\n",
       "     Density, distribution function, quantile function and random\n",
       "     generation for the normal distribution with mean equal to ‘mean’\n",
       "     and standard deviation equal to ‘sd’.\n",
       "\n",
       "_\bU_\bs_\ba_\bg_\be:\n",
       "\n",
       "     dnorm(x, mean = 0, sd = 1, log = FALSE)\n",
       "     pnorm(q, mean = 0, sd = 1, lower.tail = TRUE, log.p = FALSE)\n",
       "     qnorm(p, mean = 0, sd = 1, lower.tail = TRUE, log.p = FALSE)\n",
       "     rnorm(n, mean = 0, sd = 1)\n",
       "     \n",
       "_\bA_\br_\bg_\bu_\bm_\be_\bn_\bt_\bs:\n",
       "\n",
       "    x, q: vector of quantiles.\n",
       "\n",
       "       p: vector of probabilities.\n",
       "\n",
       "       n: number of observations. If ‘length(n) > 1’, the length is\n",
       "          taken to be the number required.\n",
       "\n",
       "    mean: vector of means.\n",
       "\n",
       "      sd: vector of standard deviations.\n",
       "\n",
       "log, log.p: logical; if TRUE, probabilities p are given as log(p).\n",
       "\n",
       "lower.tail: logical; if TRUE (default), probabilities are P[X <= x]\n",
       "          otherwise, P[X > x].\n",
       "\n",
       "_\bD_\be_\bt_\ba_\bi_\bl_\bs:\n",
       "\n",
       "     If ‘mean’ or ‘sd’ are not specified they assume the default values\n",
       "     of ‘0’ and ‘1’, respectively.\n",
       "\n",
       "     The normal distribution has density\n",
       "\n",
       "            f(x) = 1/(sqrt(2 pi) sigma) e^-((x - mu)^2/(2 sigma^2))     \n",
       "     \n",
       "     where mu is the mean of the distribution and sigma the standard\n",
       "     deviation.\n",
       "\n",
       "_\bV_\ba_\bl_\bu_\be:\n",
       "\n",
       "     ‘dnorm’ gives the density, ‘pnorm’ gives the distribution\n",
       "     function, ‘qnorm’ gives the quantile function, and ‘rnorm’\n",
       "     generates random deviates.\n",
       "\n",
       "     The length of the result is determined by ‘n’ for ‘rnorm’, and is\n",
       "     the maximum of the lengths of the numerical arguments for the\n",
       "     other functions.\n",
       "\n",
       "     The numerical arguments other than ‘n’ are recycled to the length\n",
       "     of the result.  Only the first elements of the logical arguments\n",
       "     are used.\n",
       "\n",
       "     For ‘sd = 0’ this gives the limit as ‘sd’ decreases to 0, a point\n",
       "     mass at ‘mu’.  ‘sd < 0’ is an error and returns ‘NaN’.\n",
       "\n",
       "_\bS_\bo_\bu_\br_\bc_\be:\n",
       "\n",
       "     For ‘pnorm’, based on\n",
       "\n",
       "     Cody, W. D. (1993) Algorithm 715: SPECFUN - A portable FORTRAN\n",
       "     package of special function routines and test drivers.  _ACM\n",
       "     Transactions on Mathematical Software_ *19*, 22-32.\n",
       "\n",
       "     For ‘qnorm’, the code is a C translation of\n",
       "\n",
       "     Wichura, M. J. (1988) Algorithm AS 241: The percentage points of\n",
       "     the normal distribution.  _Applied Statistics_, *37*, 477-484.\n",
       "\n",
       "     which provides precise results up to about 16 digits.\n",
       "\n",
       "     For ‘rnorm’, see RNG for how to select the algorithm and for\n",
       "     references to the supplied methods.\n",
       "\n",
       "_\bR_\be_\bf_\be_\br_\be_\bn_\bc_\be_\bs:\n",
       "\n",
       "     Becker, R. A., Chambers, J. M. and Wilks, A. R. (1988) _The New S\n",
       "     Language_.  Wadsworth & Brooks/Cole.\n",
       "\n",
       "     Johnson, N. L., Kotz, S. and Balakrishnan, N. (1995) _Continuous\n",
       "     Univariate Distributions_, volume 1, chapter 13.  Wiley, New York.\n",
       "\n",
       "_\bS_\be_\be _\bA_\bl_\bs_\bo:\n",
       "\n",
       "     Distributions for other standard distributions, including ‘dlnorm’\n",
       "     for the _Log_normal distribution.\n",
       "\n",
       "_\bE_\bx_\ba_\bm_\bp_\bl_\be_\bs:\n",
       "\n",
       "     require(graphics)\n",
       "     \n",
       "     dnorm(0) == 1/sqrt(2*pi)\n",
       "     dnorm(1) == exp(-1/2)/sqrt(2*pi)\n",
       "     dnorm(1) == 1/sqrt(2*pi*exp(1))\n",
       "     \n",
       "     ## Using \"log = TRUE\" for an extended range :\n",
       "     par(mfrow = c(2,1))\n",
       "     plot(function(x) dnorm(x, log = TRUE), -60, 50,\n",
       "          main = \"log { Normal density }\")\n",
       "     curve(log(dnorm(x)), add = TRUE, col = \"red\", lwd = 2)\n",
       "     mtext(\"dnorm(x, log=TRUE)\", adj = 0)\n",
       "     mtext(\"log(dnorm(x))\", col = \"red\", adj = 1)\n",
       "     \n",
       "     plot(function(x) pnorm(x, log.p = TRUE), -50, 10,\n",
       "          main = \"log { Normal Cumulative }\")\n",
       "     curve(log(pnorm(x)), add = TRUE, col = \"red\", lwd = 2)\n",
       "     mtext(\"pnorm(x, log=TRUE)\", adj = 0)\n",
       "     mtext(\"log(pnorm(x))\", col = \"red\", adj = 1)\n",
       "     \n",
       "     ## if you want the so-called 'error function'\n",
       "     erf <- function(x) 2 * pnorm(x * sqrt(2)) - 1\n",
       "     ## (see Abramowitz and Stegun 29.2.29)\n",
       "     ## and the so-called 'complementary error function'\n",
       "     erfc <- function(x) 2 * pnorm(x * sqrt(2), lower = FALSE)\n",
       "     ## and the inverses\n",
       "     erfinv <- function (x) qnorm((1 + x)/2)/sqrt(2)\n",
       "     erfcinv <- function (x) qnorm(x/2, lower = FALSE)/sqrt(2)\n",
       "     "
      ]
     },
     "metadata": {},
     "output_type": "display_data"
    }
   ],
   "source": [
    "?rnorm"
   ]
  },
  {
   "cell_type": "code",
   "execution_count": 29,
   "metadata": {},
   "outputs": [],
   "source": [
    "x = rnorm(50)"
   ]
  },
  {
   "cell_type": "code",
   "execution_count": 30,
   "metadata": {},
   "outputs": [
    {
     "data": {
      "text/html": [
       "<ol class=list-inline>\n",
       "\t<li>0.800499061657103</li>\n",
       "\t<li>-1.09445640756449</li>\n",
       "\t<li>0.479957074854436</li>\n",
       "\t<li>-1.7150829421192</li>\n",
       "\t<li>-0.762501476310317</li>\n",
       "\t<li>0.0382383578325633</li>\n",
       "\t<li>-0.778802236449851</li>\n",
       "\t<li>-1.16234733039777</li>\n",
       "\t<li>-0.883478313070464</li>\n",
       "\t<li>-0.985760963751298</li>\n",
       "\t<li>0.0240960437219722</li>\n",
       "\t<li>-0.317891325904622</li>\n",
       "\t<li>0.783563657408635</li>\n",
       "\t<li>0.999083685124094</li>\n",
       "\t<li>0.511780787956268</li>\n",
       "\t<li>-0.494619768553963</li>\n",
       "\t<li>1.97231370064654</li>\n",
       "\t<li>0.163163947810393</li>\n",
       "\t<li>-0.486885096475164</li>\n",
       "\t<li>-0.34586575261307</li>\n",
       "\t<li>-1.96081877822186</li>\n",
       "\t<li>-1.82695043935543</li>\n",
       "\t<li>0.607062500412432</li>\n",
       "\t<li>-0.249330069967335</li>\n",
       "\t<li>0.276596752567487</li>\n",
       "\t<li>-1.95972348509179</li>\n",
       "\t<li>1.45439863144408</li>\n",
       "\t<li>-1.70121846390267</li>\n",
       "\t<li>-1.09269278304363</li>\n",
       "\t<li>-0.607828534546418</li>\n",
       "\t<li>0.137809042733402</li>\n",
       "\t<li>-1.99515020463073</li>\n",
       "\t<li>0.295398919823634</li>\n",
       "\t<li>0.152694932457355</li>\n",
       "\t<li>-0.126679882963696</li>\n",
       "\t<li>1.84556927227607</li>\n",
       "\t<li>-1.05075257213402</li>\n",
       "\t<li>-1.40665554201158</li>\n",
       "\t<li>1.2019434903073</li>\n",
       "\t<li>-0.579560144956281</li>\n",
       "\t<li>0.893543567376603</li>\n",
       "\t<li>-0.539073993930727</li>\n",
       "\t<li>1.65312864550601</li>\n",
       "\t<li>-0.508332180723228</li>\n",
       "\t<li>1.20179433322646</li>\n",
       "\t<li>1.80588198220884</li>\n",
       "\t<li>0.395723179458204</li>\n",
       "\t<li>-0.966334309809152</li>\n",
       "\t<li>0.172577594101271</li>\n",
       "\t<li>-1.25833246944168</li>\n",
       "</ol>\n"
      ],
      "text/latex": [
       "\\begin{enumerate*}\n",
       "\\item 0.800499061657103\n",
       "\\item -1.09445640756449\n",
       "\\item 0.479957074854436\n",
       "\\item -1.7150829421192\n",
       "\\item -0.762501476310317\n",
       "\\item 0.0382383578325633\n",
       "\\item -0.778802236449851\n",
       "\\item -1.16234733039777\n",
       "\\item -0.883478313070464\n",
       "\\item -0.985760963751298\n",
       "\\item 0.0240960437219722\n",
       "\\item -0.317891325904622\n",
       "\\item 0.783563657408635\n",
       "\\item 0.999083685124094\n",
       "\\item 0.511780787956268\n",
       "\\item -0.494619768553963\n",
       "\\item 1.97231370064654\n",
       "\\item 0.163163947810393\n",
       "\\item -0.486885096475164\n",
       "\\item -0.34586575261307\n",
       "\\item -1.96081877822186\n",
       "\\item -1.82695043935543\n",
       "\\item 0.607062500412432\n",
       "\\item -0.249330069967335\n",
       "\\item 0.276596752567487\n",
       "\\item -1.95972348509179\n",
       "\\item 1.45439863144408\n",
       "\\item -1.70121846390267\n",
       "\\item -1.09269278304363\n",
       "\\item -0.607828534546418\n",
       "\\item 0.137809042733402\n",
       "\\item -1.99515020463073\n",
       "\\item 0.295398919823634\n",
       "\\item 0.152694932457355\n",
       "\\item -0.126679882963696\n",
       "\\item 1.84556927227607\n",
       "\\item -1.05075257213402\n",
       "\\item -1.40665554201158\n",
       "\\item 1.2019434903073\n",
       "\\item -0.579560144956281\n",
       "\\item 0.893543567376603\n",
       "\\item -0.539073993930727\n",
       "\\item 1.65312864550601\n",
       "\\item -0.508332180723228\n",
       "\\item 1.20179433322646\n",
       "\\item 1.80588198220884\n",
       "\\item 0.395723179458204\n",
       "\\item -0.966334309809152\n",
       "\\item 0.172577594101271\n",
       "\\item -1.25833246944168\n",
       "\\end{enumerate*}\n"
      ],
      "text/markdown": [
       "1. 0.800499061657103\n",
       "2. -1.09445640756449\n",
       "3. 0.479957074854436\n",
       "4. -1.7150829421192\n",
       "5. -0.762501476310317\n",
       "6. 0.0382383578325633\n",
       "7. -0.778802236449851\n",
       "8. -1.16234733039777\n",
       "9. -0.883478313070464\n",
       "10. -0.985760963751298\n",
       "11. 0.0240960437219722\n",
       "12. -0.317891325904622\n",
       "13. 0.783563657408635\n",
       "14. 0.999083685124094\n",
       "15. 0.511780787956268\n",
       "16. -0.494619768553963\n",
       "17. 1.97231370064654\n",
       "18. 0.163163947810393\n",
       "19. -0.486885096475164\n",
       "20. -0.34586575261307\n",
       "21. -1.96081877822186\n",
       "22. -1.82695043935543\n",
       "23. 0.607062500412432\n",
       "24. -0.249330069967335\n",
       "25. 0.276596752567487\n",
       "26. -1.95972348509179\n",
       "27. 1.45439863144408\n",
       "28. -1.70121846390267\n",
       "29. -1.09269278304363\n",
       "30. -0.607828534546418\n",
       "31. 0.137809042733402\n",
       "32. -1.99515020463073\n",
       "33. 0.295398919823634\n",
       "34. 0.152694932457355\n",
       "35. -0.126679882963696\n",
       "36. 1.84556927227607\n",
       "37. -1.05075257213402\n",
       "38. -1.40665554201158\n",
       "39. 1.2019434903073\n",
       "40. -0.579560144956281\n",
       "41. 0.893543567376603\n",
       "42. -0.539073993930727\n",
       "43. 1.65312864550601\n",
       "44. -0.508332180723228\n",
       "45. 1.20179433322646\n",
       "46. 1.80588198220884\n",
       "47. 0.395723179458204\n",
       "48. -0.966334309809152\n",
       "49. 0.172577594101271\n",
       "50. -1.25833246944168\n",
       "\n",
       "\n"
      ],
      "text/plain": [
       " [1]  0.80049906 -1.09445641  0.47995707 -1.71508294 -0.76250148  0.03823836\n",
       " [7] -0.77880224 -1.16234733 -0.88347831 -0.98576096  0.02409604 -0.31789133\n",
       "[13]  0.78356366  0.99908369  0.51178079 -0.49461977  1.97231370  0.16316395\n",
       "[19] -0.48688510 -0.34586575 -1.96081878 -1.82695044  0.60706250 -0.24933007\n",
       "[25]  0.27659675 -1.95972349  1.45439863 -1.70121846 -1.09269278 -0.60782853\n",
       "[31]  0.13780904 -1.99515020  0.29539892  0.15269493 -0.12667988  1.84556927\n",
       "[37] -1.05075257 -1.40665554  1.20194349 -0.57956014  0.89354357 -0.53907399\n",
       "[43]  1.65312865 -0.50833218  1.20179433  1.80588198  0.39572318 -0.96633431\n",
       "[49]  0.17257759 -1.25833247"
      ]
     },
     "metadata": {},
     "output_type": "display_data"
    }
   ],
   "source": [
    "x"
   ]
  },
  {
   "cell_type": "code",
   "execution_count": 31,
   "metadata": {},
   "outputs": [],
   "source": [
    "y = x + rnorm(50, mean=50, sd=0.1)"
   ]
  },
  {
   "cell_type": "code",
   "execution_count": 32,
   "metadata": {},
   "outputs": [
    {
     "data": {
      "text/html": [
       "0.996138529430107"
      ],
      "text/latex": [
       "0.996138529430107"
      ],
      "text/markdown": [
       "0.996138529430107"
      ],
      "text/plain": [
       "[1] 0.9961385"
      ]
     },
     "metadata": {},
     "output_type": "display_data"
    }
   ],
   "source": [
    "cor(x,y)"
   ]
  },
  {
   "cell_type": "code",
   "execution_count": null,
   "metadata": {},
   "outputs": [],
   "source": []
  }
 ],
 "metadata": {
  "kernelspec": {
   "display_name": "R",
   "language": "R",
   "name": "ir"
  },
  "language_info": {
   "codemirror_mode": "r",
   "file_extension": ".r",
   "mimetype": "text/x-r-source",
   "name": "R",
   "pygments_lexer": "r",
   "version": "3.5.1"
  }
 },
 "nbformat": 4,
 "nbformat_minor": 2
}
